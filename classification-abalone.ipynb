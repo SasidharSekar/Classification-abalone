{
 "cells": [
  {
   "cell_type": "code",
   "execution_count": 82,
   "id": "15e94ff5",
   "metadata": {},
   "outputs": [],
   "source": [
    "import pandas\n",
    "import numpy\n",
    "from sklearn import *\n",
    "from matplotlib import pyplot\n",
    "from pandas.plotting import scatter_matrix\n",
    "from sklearn.model_selection import train_test_split\n",
    "from sklearn.model_selection import cross_val_score\n",
    "from sklearn.model_selection import StratifiedKFold\n",
    "from sklearn.metrics import classification_report\n",
    "from sklearn.metrics import confusion_matrix\n",
    "from sklearn.metrics import accuracy_score\n",
    "from sklearn.linear_model import LogisticRegression\n",
    "from sklearn.tree import DecisionTreeClassifier\n",
    "from sklearn.neighbors import KNeighborsClassifier\n",
    "from sklearn.discriminant_analysis import LinearDiscriminantAnalysis\n",
    "from sklearn.naive_bayes import GaussianNB\n",
    "from sklearn.svm import SVC\n",
    "from sklearn.preprocessing import LabelEncoder\n",
    "import pickle"
   ]
  },
  {
   "cell_type": "markdown",
   "id": "ecdc9bf6",
   "metadata": {},
   "source": [
    "Load dataset"
   ]
  },
  {
   "cell_type": "code",
   "execution_count": 56,
   "id": "f0ce853c",
   "metadata": {},
   "outputs": [],
   "source": [
    "DATA_FILE_URL = 'https://raw.githubusercontent.com/SasidharSekar/Classification-abalone/9b88eddc963afccf46d569eb5132310b2725120d/abalone-data.csv'\n",
    "col_names = ['Sex','Length','Diameter','Height','Whole Weight','Shucked Weight','Viscera Weight','Shell Weight','Rings']\n",
    "data = pandas.read_csv(DATA_FILE_URL,sep=',',quotechar='\"', header=None, names=col_names)"
   ]
  },
  {
   "cell_type": "markdown",
   "id": "ed4ff9da",
   "metadata": {},
   "source": [
    "View Data Distribution"
   ]
  },
  {
   "cell_type": "code",
   "execution_count": null,
   "id": "b5136524",
   "metadata": {},
   "outputs": [],
   "source": [
    "print(\"Data Size: %d\" %data.size)\n",
    "print(data.head(10))\n",
    "print(data.describe())\n",
    "print(data.groupby('Rings').size())\n",
    "excl_gender = data.iloc[:,1:]\n",
    "print(excl_gender.corr())"
   ]
  },
  {
   "cell_type": "markdown",
   "id": "0f561139",
   "metadata": {},
   "source": [
    "Visualize Data Distribution"
   ]
  },
  {
   "cell_type": "code",
   "execution_count": null,
   "id": "7ccc5730",
   "metadata": {},
   "outputs": [],
   "source": [
    "data.hist()\n",
    "pyplot.show()\n",
    "X = data.iloc[:,:-1]\n",
    "X.boxplot()\n",
    "pyplot.show()\n",
    "scatter_matrix(data)\n",
    "pyplot.show()"
   ]
  },
  {
   "cell_type": "markdown",
   "id": "cad635f2",
   "metadata": {},
   "source": [
    "Model Evaluation Preparation"
   ]
  },
  {
   "cell_type": "code",
   "execution_count": null,
   "id": "ee36617e",
   "metadata": {},
   "outputs": [],
   "source": [
    "label_encoder = LabelEncoder()\n",
    "data['Sex'] = label_encoder.fit_transform(data['Sex'])\n",
    "array = data.values\n",
    "X = array[:,:-1]\n",
    "y = array[:,-1]\n",
    "X_train, X_val, y_train, y_val = train_test_split(X,y,test_size=0.2,random_state=1)\n",
    "\n",
    "models = []\n",
    "models.append((\"LR\",LogisticRegression()))\n",
    "models.append((\"LDA\",LinearDiscriminantAnalysis()))\n",
    "models.append((\"KNN\",KNeighborsClassifier()))\n",
    "models.append((\"CART\",DecisionTreeClassifier()))\n",
    "models.append((\"NB\",GaussianNB()))\n",
    "models.append((\"SVM\",SVC(gamma=\"auto\")))"
   ]
  },
  {
   "cell_type": "markdown",
   "id": "775d5344",
   "metadata": {},
   "source": [
    "Model Evaluation"
   ]
  },
  {
   "cell_type": "code",
   "execution_count": null,
   "id": "77e7c7bb",
   "metadata": {},
   "outputs": [],
   "source": [
    "print(str(X_train.size) +\" : \" + str(y_train.size))\n",
    "results = []\n",
    "names = []\n",
    "for name, model in models:\n",
    "    kfold = StratifiedKFold(n_splits=10,shuffle=True, random_state=1)\n",
    "    cv_results = cross_val_score(model,X_train,y_train,cv=kfold,scoring='accuracy')\n",
    "    results.append(cv_results)\n",
    "    names.append(name)\n",
    "    print('%s: %f(%f)' %(name, cv_results.mean(), cv_results.std()))"
   ]
  },
  {
   "cell_type": "markdown",
   "id": "35f511c7",
   "metadata": {},
   "source": [
    "Compare Algorithms"
   ]
  },
  {
   "cell_type": "code",
   "execution_count": null,
   "id": "89abfa47",
   "metadata": {},
   "outputs": [],
   "source": [
    "pyplot.boxplot(results,tick_labels=names)\n",
    "pyplot.title('Algorithm Comparision') \n",
    "pyplot.show()"
   ]
  },
  {
   "cell_type": "markdown",
   "id": "abe28abe",
   "metadata": {},
   "source": [
    "Make Predictions"
   ]
  },
  {
   "cell_type": "code",
   "execution_count": null,
   "id": "55c78176",
   "metadata": {},
   "outputs": [],
   "source": [
    "model = LinearDiscriminantAnalysis()\n",
    "model.fit(X_train,y_train)\n",
    "predictions = model.predict(X_val)\n",
    "print(accuracy_score(y_val,predictions))\n",
    "print(confusion_matrix(y_val,predictions))\n",
    "print(classification_report(y_val,predictions))"
   ]
  },
  {
   "cell_type": "markdown",
   "id": "f31da9f8",
   "metadata": {},
   "source": [
    "Make individual predictions"
   ]
  },
  {
   "cell_type": "code",
   "execution_count": null,
   "id": "885bda82",
   "metadata": {},
   "outputs": [
    {
     "name": "stdout",
     "output_type": "stream",
     "text": [
      "[13.]\n"
     ]
    }
   ],
   "source": [
    "str_x_test = input(\"Enter input parameters as Comma Separated values\")\n",
    "x_test = str_x_test.split(\",\")\n",
    "X_test = numpy.array(x_test)\n",
    "X_test = X_test.reshape(1,-1)\n",
    "X_test = X_test.astype(float)\n",
    "prediction = model.predict(X_test)\n",
    "print(prediction)"
   ]
  },
  {
   "cell_type": "markdown",
   "id": "c675a518",
   "metadata": {},
   "source": [
    "Save Model to File"
   ]
  },
  {
   "cell_type": "code",
   "execution_count": 83,
   "id": "f5b3b6e5",
   "metadata": {},
   "outputs": [],
   "source": [
    "filename = 'final_model_classification_abalone.sav'\n",
    "pickle.dump(model, open(filename,'wb'))"
   ]
  },
  {
   "cell_type": "markdown",
   "id": "c152f101",
   "metadata": {},
   "source": [
    "Load Model from File and predict"
   ]
  },
  {
   "cell_type": "code",
   "execution_count": null,
   "id": "a77d44df",
   "metadata": {},
   "outputs": [],
   "source": [
    "model = pickle.load(open(filename,'rb'))\n",
    "predictions = model.predict(X_val)\n",
    "print(accuracy_score(y_val,predictions))"
   ]
  }
 ],
 "metadata": {
  "kernelspec": {
   "display_name": "Python 3",
   "language": "python",
   "name": "python3"
  },
  "language_info": {
   "codemirror_mode": {
    "name": "ipython",
    "version": 3
   },
   "file_extension": ".py",
   "mimetype": "text/x-python",
   "name": "python",
   "nbconvert_exporter": "python",
   "pygments_lexer": "ipython3",
   "version": "3.13.3"
  }
 },
 "nbformat": 4,
 "nbformat_minor": 5
}
